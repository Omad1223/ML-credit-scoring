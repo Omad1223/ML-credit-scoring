{
 "cells": [
  {
   "attachments": {},
   "cell_type": "markdown",
   "metadata": {},
   "source": [
    "## Кредитный Скоринг\n",
    "\n",
    "#### Описание задачи\n",
    "Дана выборка заявок на кредитный продукт. Про заявителей известны различные данные на момент заполнения анкеты. По части выборки (train, validate) известны результаты пользования кредитом (случился дефолт или нет), а по другой части(test) результаты известны только организаторам. Необходимо извлечь зависимость из имеющихся данных о заявителях и фактом наличия дефолта, и предсказать результат на тестовых данных.\n",
    "В качестве метрики используется [AUC](https://www.kaggle.com/wiki/AreaUnderCurve).\n",
    "#### Описание выборки  \n",
    "\n",
    "##### APPLICATION_INFO.csv  \n",
    " - **id** - идентификатор счета\n",
    " - **application_dt** -  Дата подачи заявки\n",
    " - **sample_cd** -  Категория выборки\n",
    " - **education_cd** -  Образование\n",
    " - **gender_cd** -  Пол\n",
    " - **age** -  Возраст\n",
    " - **car_own_flg** -  Флаг наличия автомобиля\n",
    " - **car_type_flg** -  Флаг наличия иномарки\n",
    " - **appl_rej_cnt** -  Количество отказанных прошлых заявок\n",
    " - **good_work_flg** -  Флаг наличия \"хорошей\" работы\n",
    " - **Score_bki** -  Скор балл по данным из бюро кредитных историй\n",
    " - **out_request_cnt** -  Количество запросов в бюро\n",
    " - **region_rating** -  Рейтинг региона\n",
    " - **home_address_cd** -  Категаризатор домашнего адреса\n",
    " - **work_address_cd** -  Категаризатор рабочего адреса\n",
    " - **income** -  Доход заявителя\n",
    " - **SNA** -  Связь заявителя с клиентами\n",
    " - **first_time_cd** -  Давность наличия информации о заявителе\n",
    " - **Air_flg** -  Наличие загран паспорта\n",
    " \n",
    "##### DEFAULT_FLG.csv  \n",
    "\n",
    " - **id** - идентификатор счета\n",
    " - **default_flg** -  Флаг дефолта по кредиту\n",
    "\n"
   ]
  },
  {
   "attachments": {},
   "cell_type": "markdown",
   "metadata": {},
   "source": [
    "Подключаем библиотеки"
   ]
  },
  {
   "cell_type": "code",
   "execution_count": 2,
   "metadata": {
    "collapsed": true
   },
   "outputs": [],
   "source": [
    "import pandas as pd              #Обработка табличных данных\n",
    "import numpy as np               #Алгоритмы линейной алгебры\n",
    "import matplotlib.pyplot as plt  #Различные способы визуализации\n",
    "\n",
    "\n",
    "%matplotlib inline"
   ]
  },
  {
   "attachments": {},
   "cell_type": "markdown",
   "metadata": {},
   "source": [
    "#### Предобработка данных"
   ]
  },
  {
   "attachments": {},
   "cell_type": "markdown",
   "metadata": {},
   "source": [
    "Считываем данные из csv файла"
   ]
  },
  {
   "cell_type": "code",
   "execution_count": 6,
   "metadata": {
    "collapsed": true
   },
   "outputs": [],
   "source": [
    "df = pd.read_csv('data/application_info.csv', index_col='id')"
   ]
  },
  {
   "attachments": {},
   "cell_type": "markdown",
   "metadata": {},
   "source": [
    "У pandas основные типы данных:\n",
    "* DataFrame - двумерные массивы\n",
    "* Series - одномерный массим"
   ]
  },
  {
   "cell_type": "code",
   "execution_count": 7,
   "metadata": {},
   "outputs": [
    {
     "data": {
      "text/plain": [
       "pandas.core.frame.DataFrame"
      ]
     },
     "execution_count": 7,
     "metadata": {},
     "output_type": "execute_result"
    }
   ],
   "source": [
    "type(df)"
   ]
  },
  {
   "attachments": {},
   "cell_type": "markdown",
   "metadata": {},
   "source": [
    "У DataFrame есть много полезных методов для интерактивного анализа:\n",
    "* `shape` - Размерность данных\n",
    "* `head` - первые строки ((5 по умолчанию)\n",
    "* `tail` - последние строки"
   ]
  },
  {
   "cell_type": "code",
   "execution_count": 8,
   "metadata": {},
   "outputs": [
    {
     "data": {
      "text/plain": [
       "(205296, 18)"
      ]
     },
     "execution_count": 8,
     "metadata": {},
     "output_type": "execute_result"
    }
   ],
   "source": [
    "df.shape"
   ]
  },
  {
   "cell_type": "code",
   "execution_count": 9,
   "metadata": {},
   "outputs": [
    {
     "data": {
      "text/html": [
       "<div>\n",
       "<style scoped>\n",
       "    .dataframe tbody tr th:only-of-type {\n",
       "        vertical-align: middle;\n",
       "    }\n",
       "\n",
       "    .dataframe tbody tr th {\n",
       "        vertical-align: top;\n",
       "    }\n",
       "\n",
       "    .dataframe thead th {\n",
       "        text-align: right;\n",
       "    }\n",
       "</style>\n",
       "<table border=\"1\" class=\"dataframe\">\n",
       "  <thead>\n",
       "    <tr style=\"text-align: right;\">\n",
       "      <th></th>\n",
       "      <th>application_dt</th>\n",
       "      <th>sample_cd</th>\n",
       "      <th>education_cd</th>\n",
       "      <th>gender_cd</th>\n",
       "      <th>age</th>\n",
       "      <th>car_own_flg</th>\n",
       "      <th>car_type_flg</th>\n",
       "      <th>appl_rej_cnt</th>\n",
       "      <th>good_work_flg</th>\n",
       "      <th>Score_bki</th>\n",
       "      <th>out_request_cnt</th>\n",
       "      <th>region_rating</th>\n",
       "      <th>home_address_cd</th>\n",
       "      <th>work_address_cd</th>\n",
       "      <th>income</th>\n",
       "      <th>SNA</th>\n",
       "      <th>first_time_cd</th>\n",
       "      <th>Air_flg</th>\n",
       "    </tr>\n",
       "    <tr>\n",
       "      <th>id</th>\n",
       "      <th></th>\n",
       "      <th></th>\n",
       "      <th></th>\n",
       "      <th></th>\n",
       "      <th></th>\n",
       "      <th></th>\n",
       "      <th></th>\n",
       "      <th></th>\n",
       "      <th></th>\n",
       "      <th></th>\n",
       "      <th></th>\n",
       "      <th></th>\n",
       "      <th></th>\n",
       "      <th></th>\n",
       "      <th></th>\n",
       "      <th></th>\n",
       "      <th></th>\n",
       "      <th></th>\n",
       "    </tr>\n",
       "  </thead>\n",
       "  <tbody>\n",
       "    <tr>\n",
       "      <th>1</th>\n",
       "      <td>01JAN2014</td>\n",
       "      <td>train</td>\n",
       "      <td>SCH</td>\n",
       "      <td>M</td>\n",
       "      <td>27</td>\n",
       "      <td>Y</td>\n",
       "      <td>Y</td>\n",
       "      <td>0</td>\n",
       "      <td>0</td>\n",
       "      <td>-1.917831</td>\n",
       "      <td>0</td>\n",
       "      <td>40</td>\n",
       "      <td>2</td>\n",
       "      <td>3</td>\n",
       "      <td>32000</td>\n",
       "      <td>1</td>\n",
       "      <td>4</td>\n",
       "      <td>N</td>\n",
       "    </tr>\n",
       "    <tr>\n",
       "      <th>2</th>\n",
       "      <td>01JAN2014</td>\n",
       "      <td>train</td>\n",
       "      <td>GRD</td>\n",
       "      <td>F</td>\n",
       "      <td>26</td>\n",
       "      <td>N</td>\n",
       "      <td>N</td>\n",
       "      <td>0</td>\n",
       "      <td>0</td>\n",
       "      <td>-1.153144</td>\n",
       "      <td>2</td>\n",
       "      <td>60</td>\n",
       "      <td>2</td>\n",
       "      <td>3</td>\n",
       "      <td>50000</td>\n",
       "      <td>2</td>\n",
       "      <td>1</td>\n",
       "      <td>N</td>\n",
       "    </tr>\n",
       "    <tr>\n",
       "      <th>3</th>\n",
       "      <td>01JAN2014</td>\n",
       "      <td>train</td>\n",
       "      <td>SCH</td>\n",
       "      <td>M</td>\n",
       "      <td>35</td>\n",
       "      <td>N</td>\n",
       "      <td>N</td>\n",
       "      <td>0</td>\n",
       "      <td>1</td>\n",
       "      <td>-1.732810</td>\n",
       "      <td>0</td>\n",
       "      <td>40</td>\n",
       "      <td>1</td>\n",
       "      <td>2</td>\n",
       "      <td>20000</td>\n",
       "      <td>4</td>\n",
       "      <td>3</td>\n",
       "      <td>N</td>\n",
       "    </tr>\n",
       "    <tr>\n",
       "      <th>4</th>\n",
       "      <td>01JAN2014</td>\n",
       "      <td>train</td>\n",
       "      <td>GRD</td>\n",
       "      <td>F</td>\n",
       "      <td>35</td>\n",
       "      <td>N</td>\n",
       "      <td>N</td>\n",
       "      <td>0</td>\n",
       "      <td>1</td>\n",
       "      <td>-2.552133</td>\n",
       "      <td>2</td>\n",
       "      <td>20</td>\n",
       "      <td>2</td>\n",
       "      <td>3</td>\n",
       "      <td>80000</td>\n",
       "      <td>1</td>\n",
       "      <td>3</td>\n",
       "      <td>N</td>\n",
       "    </tr>\n",
       "    <tr>\n",
       "      <th>5</th>\n",
       "      <td>01JAN2014</td>\n",
       "      <td>train</td>\n",
       "      <td>UGR</td>\n",
       "      <td>F</td>\n",
       "      <td>24</td>\n",
       "      <td>N</td>\n",
       "      <td>N</td>\n",
       "      <td>0</td>\n",
       "      <td>0</td>\n",
       "      <td>-1.914581</td>\n",
       "      <td>1</td>\n",
       "      <td>50</td>\n",
       "      <td>2</td>\n",
       "      <td>3</td>\n",
       "      <td>27000</td>\n",
       "      <td>1</td>\n",
       "      <td>2</td>\n",
       "      <td>N</td>\n",
       "    </tr>\n",
       "  </tbody>\n",
       "</table>\n",
       "</div>"
      ],
      "text/plain": [
       "   application_dt sample_cd education_cd gender_cd  age car_own_flg   \n",
       "id                                                                    \n",
       "1       01JAN2014     train          SCH         M   27           Y  \\\n",
       "2       01JAN2014     train          GRD         F   26           N   \n",
       "3       01JAN2014     train          SCH         M   35           N   \n",
       "4       01JAN2014     train          GRD         F   35           N   \n",
       "5       01JAN2014     train          UGR         F   24           N   \n",
       "\n",
       "   car_type_flg  appl_rej_cnt  good_work_flg  Score_bki  out_request_cnt   \n",
       "id                                                                         \n",
       "1             Y             0              0  -1.917831                0  \\\n",
       "2             N             0              0  -1.153144                2   \n",
       "3             N             0              1  -1.732810                0   \n",
       "4             N             0              1  -2.552133                2   \n",
       "5             N             0              0  -1.914581                1   \n",
       "\n",
       "    region_rating  home_address_cd  work_address_cd  income  SNA   \n",
       "id                                                                 \n",
       "1              40                2                3   32000    1  \\\n",
       "2              60                2                3   50000    2   \n",
       "3              40                1                2   20000    4   \n",
       "4              20                2                3   80000    1   \n",
       "5              50                2                3   27000    1   \n",
       "\n",
       "    first_time_cd Air_flg  \n",
       "id                         \n",
       "1               4       N  \n",
       "2               1       N  \n",
       "3               3       N  \n",
       "4               3       N  \n",
       "5               2       N  "
      ]
     },
     "execution_count": 9,
     "metadata": {},
     "output_type": "execute_result"
    }
   ],
   "source": [
    "df.head(5)"
   ]
  },
  {
   "cell_type": "code",
   "execution_count": 10,
   "metadata": {},
   "outputs": [
    {
     "data": {
      "text/html": [
       "<div>\n",
       "<style scoped>\n",
       "    .dataframe tbody tr th:only-of-type {\n",
       "        vertical-align: middle;\n",
       "    }\n",
       "\n",
       "    .dataframe tbody tr th {\n",
       "        vertical-align: top;\n",
       "    }\n",
       "\n",
       "    .dataframe thead th {\n",
       "        text-align: right;\n",
       "    }\n",
       "</style>\n",
       "<table border=\"1\" class=\"dataframe\">\n",
       "  <thead>\n",
       "    <tr style=\"text-align: right;\">\n",
       "      <th></th>\n",
       "      <th>application_dt</th>\n",
       "      <th>sample_cd</th>\n",
       "      <th>education_cd</th>\n",
       "      <th>gender_cd</th>\n",
       "      <th>age</th>\n",
       "      <th>car_own_flg</th>\n",
       "      <th>car_type_flg</th>\n",
       "      <th>appl_rej_cnt</th>\n",
       "      <th>good_work_flg</th>\n",
       "      <th>Score_bki</th>\n",
       "      <th>out_request_cnt</th>\n",
       "      <th>region_rating</th>\n",
       "      <th>home_address_cd</th>\n",
       "      <th>work_address_cd</th>\n",
       "      <th>income</th>\n",
       "      <th>SNA</th>\n",
       "      <th>first_time_cd</th>\n",
       "      <th>Air_flg</th>\n",
       "    </tr>\n",
       "    <tr>\n",
       "      <th>id</th>\n",
       "      <th></th>\n",
       "      <th></th>\n",
       "      <th></th>\n",
       "      <th></th>\n",
       "      <th></th>\n",
       "      <th></th>\n",
       "      <th></th>\n",
       "      <th></th>\n",
       "      <th></th>\n",
       "      <th></th>\n",
       "      <th></th>\n",
       "      <th></th>\n",
       "      <th></th>\n",
       "      <th></th>\n",
       "      <th></th>\n",
       "      <th></th>\n",
       "      <th></th>\n",
       "      <th></th>\n",
       "    </tr>\n",
       "  </thead>\n",
       "  <tbody>\n",
       "    <tr>\n",
       "      <th>205295</th>\n",
       "      <td>31MAR2015</td>\n",
       "      <td>test</td>\n",
       "      <td>PGR</td>\n",
       "      <td>M</td>\n",
       "      <td>27</td>\n",
       "      <td>Y</td>\n",
       "      <td>Y</td>\n",
       "      <td>1</td>\n",
       "      <td>0</td>\n",
       "      <td>-1.552576</td>\n",
       "      <td>0</td>\n",
       "      <td>50</td>\n",
       "      <td>1</td>\n",
       "      <td>3</td>\n",
       "      <td>32500</td>\n",
       "      <td>1</td>\n",
       "      <td>3</td>\n",
       "      <td>Y</td>\n",
       "    </tr>\n",
       "    <tr>\n",
       "      <th>205296</th>\n",
       "      <td>31MAR2015</td>\n",
       "      <td>test</td>\n",
       "      <td>GRD</td>\n",
       "      <td>F</td>\n",
       "      <td>44</td>\n",
       "      <td>N</td>\n",
       "      <td>N</td>\n",
       "      <td>0</td>\n",
       "      <td>1</td>\n",
       "      <td>-1.517509</td>\n",
       "      <td>4</td>\n",
       "      <td>50</td>\n",
       "      <td>1</td>\n",
       "      <td>3</td>\n",
       "      <td>30000</td>\n",
       "      <td>1</td>\n",
       "      <td>4</td>\n",
       "      <td>Y</td>\n",
       "    </tr>\n",
       "  </tbody>\n",
       "</table>\n",
       "</div>"
      ],
      "text/plain": [
       "       application_dt sample_cd education_cd gender_cd  age car_own_flg   \n",
       "id                                                                        \n",
       "205295      31MAR2015      test          PGR         M   27           Y  \\\n",
       "205296      31MAR2015      test          GRD         F   44           N   \n",
       "\n",
       "       car_type_flg  appl_rej_cnt  good_work_flg  Score_bki  out_request_cnt   \n",
       "id                                                                             \n",
       "205295            Y             1              0  -1.552576                0  \\\n",
       "205296            N             0              1  -1.517509                4   \n",
       "\n",
       "        region_rating  home_address_cd  work_address_cd  income  SNA   \n",
       "id                                                                     \n",
       "205295             50                1                3   32500    1  \\\n",
       "205296             50                1                3   30000    1   \n",
       "\n",
       "        first_time_cd Air_flg  \n",
       "id                             \n",
       "205295              3       Y  \n",
       "205296              4       Y  "
      ]
     },
     "execution_count": 10,
     "metadata": {},
     "output_type": "execute_result"
    }
   ],
   "source": [
    "df.tail(2)"
   ]
  },
  {
   "cell_type": "code",
   "execution_count": 11,
   "metadata": {},
   "outputs": [
    {
     "data": {
      "text/plain": [
       "Index(['application_dt', 'sample_cd', 'education_cd', 'gender_cd', 'age',\n",
       "       'car_own_flg', 'car_type_flg', 'appl_rej_cnt', 'good_work_flg',\n",
       "       'Score_bki', 'out_request_cnt', 'region_rating', 'home_address_cd',\n",
       "       'work_address_cd', 'income', 'SNA', 'first_time_cd', 'Air_flg'],\n",
       "      dtype='object')"
      ]
     },
     "execution_count": 11,
     "metadata": {},
     "output_type": "execute_result"
    }
   ],
   "source": [
    "df.columns"
   ]
  },
  {
   "attachments": {},
   "cell_type": "markdown",
   "metadata": {},
   "source": [
    "Типы полей"
   ]
  },
  {
   "cell_type": "code",
   "execution_count": 12,
   "metadata": {},
   "outputs": [
    {
     "data": {
      "text/plain": [
       "application_dt      object\n",
       "sample_cd           object\n",
       "education_cd        object\n",
       "gender_cd           object\n",
       "age                  int64\n",
       "car_own_flg         object\n",
       "car_type_flg        object\n",
       "appl_rej_cnt         int64\n",
       "good_work_flg        int64\n",
       "Score_bki          float64\n",
       "out_request_cnt      int64\n",
       "region_rating        int64\n",
       "home_address_cd      int64\n",
       "work_address_cd      int64\n",
       "income               int64\n",
       "SNA                  int64\n",
       "first_time_cd        int64\n",
       "Air_flg             object\n",
       "dtype: object"
      ]
     },
     "execution_count": 12,
     "metadata": {},
     "output_type": "execute_result"
    }
   ],
   "source": [
    "df.dtypes"
   ]
  },
  {
   "attachments": {},
   "cell_type": "markdown",
   "metadata": {},
   "source": [
    "Выведем сводную информацию по числовым признакам"
   ]
  },
  {
   "cell_type": "code",
   "execution_count": 13,
   "metadata": {},
   "outputs": [
    {
     "data": {
      "text/html": [
       "<div>\n",
       "<style scoped>\n",
       "    .dataframe tbody tr th:only-of-type {\n",
       "        vertical-align: middle;\n",
       "    }\n",
       "\n",
       "    .dataframe tbody tr th {\n",
       "        vertical-align: top;\n",
       "    }\n",
       "\n",
       "    .dataframe thead th {\n",
       "        text-align: right;\n",
       "    }\n",
       "</style>\n",
       "<table border=\"1\" class=\"dataframe\">\n",
       "  <thead>\n",
       "    <tr style=\"text-align: right;\">\n",
       "      <th></th>\n",
       "      <th>age</th>\n",
       "      <th>appl_rej_cnt</th>\n",
       "      <th>good_work_flg</th>\n",
       "      <th>Score_bki</th>\n",
       "      <th>out_request_cnt</th>\n",
       "      <th>region_rating</th>\n",
       "      <th>home_address_cd</th>\n",
       "      <th>work_address_cd</th>\n",
       "      <th>income</th>\n",
       "      <th>SNA</th>\n",
       "      <th>first_time_cd</th>\n",
       "    </tr>\n",
       "  </thead>\n",
       "  <tbody>\n",
       "    <tr>\n",
       "      <th>count</th>\n",
       "      <td>205296.000000</td>\n",
       "      <td>205296.000000</td>\n",
       "      <td>205296.000000</td>\n",
       "      <td>205296.000000</td>\n",
       "      <td>205296.000000</td>\n",
       "      <td>205296.000000</td>\n",
       "      <td>205296.000000</td>\n",
       "      <td>205296.000000</td>\n",
       "      <td>205296.000000</td>\n",
       "      <td>205296.000000</td>\n",
       "      <td>205296.000000</td>\n",
       "    </tr>\n",
       "    <tr>\n",
       "      <th>mean</th>\n",
       "      <td>39.354566</td>\n",
       "      <td>0.277297</td>\n",
       "      <td>0.169701</td>\n",
       "      <td>-1.967120</td>\n",
       "      <td>2.015826</td>\n",
       "      <td>57.332340</td>\n",
       "      <td>1.602218</td>\n",
       "      <td>2.520210</td>\n",
       "      <td>42251.807610</td>\n",
       "      <td>1.725864</td>\n",
       "      <td>2.791657</td>\n",
       "    </tr>\n",
       "    <tr>\n",
       "      <th>std</th>\n",
       "      <td>11.451011</td>\n",
       "      <td>0.782794</td>\n",
       "      <td>0.375371</td>\n",
       "      <td>0.488055</td>\n",
       "      <td>2.138564</td>\n",
       "      <td>13.262627</td>\n",
       "      <td>0.520577</td>\n",
       "      <td>0.689453</td>\n",
       "      <td>45183.110679</td>\n",
       "      <td>1.115876</td>\n",
       "      <td>1.024393</td>\n",
       "    </tr>\n",
       "    <tr>\n",
       "      <th>min</th>\n",
       "      <td>21.000000</td>\n",
       "      <td>0.000000</td>\n",
       "      <td>0.000000</td>\n",
       "      <td>-3.624586</td>\n",
       "      <td>0.000000</td>\n",
       "      <td>20.000000</td>\n",
       "      <td>1.000000</td>\n",
       "      <td>1.000000</td>\n",
       "      <td>1000.000000</td>\n",
       "      <td>1.000000</td>\n",
       "      <td>1.000000</td>\n",
       "    </tr>\n",
       "    <tr>\n",
       "      <th>25%</th>\n",
       "      <td>30.000000</td>\n",
       "      <td>0.000000</td>\n",
       "      <td>0.000000</td>\n",
       "      <td>-2.313894</td>\n",
       "      <td>1.000000</td>\n",
       "      <td>50.000000</td>\n",
       "      <td>1.000000</td>\n",
       "      <td>2.000000</td>\n",
       "      <td>20000.000000</td>\n",
       "      <td>1.000000</td>\n",
       "      <td>2.000000</td>\n",
       "    </tr>\n",
       "    <tr>\n",
       "      <th>50%</th>\n",
       "      <td>37.000000</td>\n",
       "      <td>0.000000</td>\n",
       "      <td>0.000000</td>\n",
       "      <td>-1.990599</td>\n",
       "      <td>2.000000</td>\n",
       "      <td>50.000000</td>\n",
       "      <td>2.000000</td>\n",
       "      <td>3.000000</td>\n",
       "      <td>30000.000000</td>\n",
       "      <td>1.000000</td>\n",
       "      <td>3.000000</td>\n",
       "    </tr>\n",
       "    <tr>\n",
       "      <th>75%</th>\n",
       "      <td>48.000000</td>\n",
       "      <td>0.000000</td>\n",
       "      <td>0.000000</td>\n",
       "      <td>-1.641914</td>\n",
       "      <td>3.000000</td>\n",
       "      <td>70.000000</td>\n",
       "      <td>2.000000</td>\n",
       "      <td>3.000000</td>\n",
       "      <td>50000.000000</td>\n",
       "      <td>2.000000</td>\n",
       "      <td>4.000000</td>\n",
       "    </tr>\n",
       "    <tr>\n",
       "      <th>max</th>\n",
       "      <td>72.000000</td>\n",
       "      <td>33.000000</td>\n",
       "      <td>1.000000</td>\n",
       "      <td>0.199773</td>\n",
       "      <td>53.000000</td>\n",
       "      <td>80.000000</td>\n",
       "      <td>3.000000</td>\n",
       "      <td>3.000000</td>\n",
       "      <td>1000000.000000</td>\n",
       "      <td>4.000000</td>\n",
       "      <td>4.000000</td>\n",
       "    </tr>\n",
       "  </tbody>\n",
       "</table>\n",
       "</div>"
      ],
      "text/plain": [
       "                 age   appl_rej_cnt  good_work_flg      Score_bki   \n",
       "count  205296.000000  205296.000000  205296.000000  205296.000000  \\\n",
       "mean       39.354566       0.277297       0.169701      -1.967120   \n",
       "std        11.451011       0.782794       0.375371       0.488055   \n",
       "min        21.000000       0.000000       0.000000      -3.624586   \n",
       "25%        30.000000       0.000000       0.000000      -2.313894   \n",
       "50%        37.000000       0.000000       0.000000      -1.990599   \n",
       "75%        48.000000       0.000000       0.000000      -1.641914   \n",
       "max        72.000000      33.000000       1.000000       0.199773   \n",
       "\n",
       "       out_request_cnt  region_rating  home_address_cd  work_address_cd   \n",
       "count    205296.000000  205296.000000    205296.000000    205296.000000  \\\n",
       "mean          2.015826      57.332340         1.602218         2.520210   \n",
       "std           2.138564      13.262627         0.520577         0.689453   \n",
       "min           0.000000      20.000000         1.000000         1.000000   \n",
       "25%           1.000000      50.000000         1.000000         2.000000   \n",
       "50%           2.000000      50.000000         2.000000         3.000000   \n",
       "75%           3.000000      70.000000         2.000000         3.000000   \n",
       "max          53.000000      80.000000         3.000000         3.000000   \n",
       "\n",
       "               income            SNA  first_time_cd  \n",
       "count   205296.000000  205296.000000  205296.000000  \n",
       "mean     42251.807610       1.725864       2.791657  \n",
       "std      45183.110679       1.115876       1.024393  \n",
       "min       1000.000000       1.000000       1.000000  \n",
       "25%      20000.000000       1.000000       2.000000  \n",
       "50%      30000.000000       1.000000       3.000000  \n",
       "75%      50000.000000       2.000000       4.000000  \n",
       "max    1000000.000000       4.000000       4.000000  "
      ]
     },
     "execution_count": 13,
     "metadata": {},
     "output_type": "execute_result"
    }
   ],
   "source": [
    "df.describe()"
   ]
  },
  {
   "attachments": {},
   "cell_type": "markdown",
   "metadata": {},
   "source": [
    "Выведем сводную информацию по строковым признакам"
   ]
  },
  {
   "cell_type": "code",
   "execution_count": 15,
   "metadata": {},
   "outputs": [
    {
     "data": {
      "text/html": [
       "<div>\n",
       "<style scoped>\n",
       "    .dataframe tbody tr th:only-of-type {\n",
       "        vertical-align: middle;\n",
       "    }\n",
       "\n",
       "    .dataframe tbody tr th {\n",
       "        vertical-align: top;\n",
       "    }\n",
       "\n",
       "    .dataframe thead th {\n",
       "        text-align: right;\n",
       "    }\n",
       "</style>\n",
       "<table border=\"1\" class=\"dataframe\">\n",
       "  <thead>\n",
       "    <tr style=\"text-align: right;\">\n",
       "      <th></th>\n",
       "      <th>application_dt</th>\n",
       "      <th>sample_cd</th>\n",
       "      <th>education_cd</th>\n",
       "      <th>gender_cd</th>\n",
       "      <th>car_own_flg</th>\n",
       "      <th>car_type_flg</th>\n",
       "      <th>Air_flg</th>\n",
       "    </tr>\n",
       "  </thead>\n",
       "  <tbody>\n",
       "    <tr>\n",
       "      <th>count</th>\n",
       "      <td>205296</td>\n",
       "      <td>205296</td>\n",
       "      <td>204384</td>\n",
       "      <td>205296</td>\n",
       "      <td>205296</td>\n",
       "      <td>205296</td>\n",
       "      <td>205296</td>\n",
       "    </tr>\n",
       "    <tr>\n",
       "      <th>unique</th>\n",
       "      <td>333</td>\n",
       "      <td>3</td>\n",
       "      <td>5</td>\n",
       "      <td>2</td>\n",
       "      <td>2</td>\n",
       "      <td>2</td>\n",
       "      <td>2</td>\n",
       "    </tr>\n",
       "    <tr>\n",
       "      <th>top</th>\n",
       "      <td>18MAR2014</td>\n",
       "      <td>train</td>\n",
       "      <td>SCH</td>\n",
       "      <td>F</td>\n",
       "      <td>N</td>\n",
       "      <td>N</td>\n",
       "      <td>N</td>\n",
       "    </tr>\n",
       "    <tr>\n",
       "      <th>freq</th>\n",
       "      <td>1491</td>\n",
       "      <td>110148</td>\n",
       "      <td>100234</td>\n",
       "      <td>117400</td>\n",
       "      <td>139119</td>\n",
       "      <td>166471</td>\n",
       "      <td>172168</td>\n",
       "    </tr>\n",
       "  </tbody>\n",
       "</table>\n",
       "</div>"
      ],
      "text/plain": [
       "       application_dt sample_cd education_cd gender_cd car_own_flg   \n",
       "count          205296    205296       204384    205296      205296  \\\n",
       "unique            333         3            5         2           2   \n",
       "top         18MAR2014     train          SCH         F           N   \n",
       "freq             1491    110148       100234    117400      139119   \n",
       "\n",
       "       car_type_flg Air_flg  \n",
       "count        205296  205296  \n",
       "unique            2       2  \n",
       "top               N       N  \n",
       "freq         166471  172168  "
      ]
     },
     "execution_count": 15,
     "metadata": {},
     "output_type": "execute_result"
    }
   ],
   "source": [
    "df.describe(include=['object'])"
   ]
  },
  {
   "attachments": {},
   "cell_type": "markdown",
   "metadata": {},
   "source": [
    "Изменим формат у столбца `application_date` на дату."
   ]
  },
  {
   "cell_type": "code",
   "execution_count": 16,
   "metadata": {
    "collapsed": true
   },
   "outputs": [],
   "source": [
    "df['application_dt'] = pd.to_datetime(df['application_dt'], format='%d%b%Y')"
   ]
  },
  {
   "attachments": {},
   "cell_type": "markdown",
   "metadata": {},
   "source": [
    "С помощью `value_counts` можно считать кол-во значений"
   ]
  },
  {
   "cell_type": "code",
   "execution_count": 17,
   "metadata": {},
   "outputs": [
    {
     "data": {
      "text/plain": [
       "sample_cd\n",
       "train       110148\n",
       "validate     70668\n",
       "test         24480\n",
       "Name: count, dtype: int64"
      ]
     },
     "execution_count": 17,
     "metadata": {},
     "output_type": "execute_result"
    }
   ],
   "source": [
    "df.sample_cd.value_counts()"
   ]
  },
  {
   "attachments": {},
   "cell_type": "markdown",
   "metadata": {},
   "source": [
    "Встроенный метод `plot` у `DataFrame` и `Series` позволяет быстро строить диаграммы."
   ]
  },
  {
   "cell_type": "code",
   "execution_count": 18,
   "metadata": {
    "scrolled": true
   },
   "outputs": [
    {
     "data": {
      "image/png": "[encoded data removed]",
      "text/plain": [
       "<Figure size 640x480 with 1 Axes>"
      ]
     },
     "metadata": {},
     "output_type": "display_data"
    }
   ],
   "source": [
    "df.sample_cd.value_counts().plot(kind='bar');"
   ]
  },
  {
   "cell_type": "code",
   "execution_count": 19,
   "metadata": {},
   "outputs": [
    {
     "data": {
      "image/png": "[encoded data removed]",
      "text/plain": [
       "<Figure size 640x480 with 1 Axes>"
      ]
     },
     "metadata": {},
     "output_type": "display_data"
    }
   ],
   "source": [
    "df.application_dt.value_counts().plot();"
   ]
  },
  {
   "attachments": {},
   "cell_type": "markdown",
   "metadata": {},
   "source": [
    "Загрузим флаг дефолта"
   ]
  },
  {
   "cell_type": "code",
   "execution_count": 20,
   "metadata": {},
   "outputs": [
    {
     "name": "stdout",
     "output_type": "stream",
     "text": [
      "(180816, 1)\n"
     ]
    },
    {
     "data": {
      "text/html": [
       "<div>\n",
       "<style scoped>\n",
       "    .dataframe tbody tr th:only-of-type {\n",
       "        vertical-align: middle;\n",
       "    }\n",
       "\n",
       "    .dataframe tbody tr th {\n",
       "        vertical-align: top;\n",
       "    }\n",
       "\n",
       "    .dataframe thead th {\n",
       "        text-align: right;\n",
       "    }\n",
       "</style>\n",
       "<table border=\"1\" class=\"dataframe\">\n",
       "  <thead>\n",
       "    <tr style=\"text-align: right;\">\n",
       "      <th></th>\n",
       "      <th>default_flg</th>\n",
       "    </tr>\n",
       "    <tr>\n",
       "      <th>id</th>\n",
       "      <th></th>\n",
       "    </tr>\n",
       "  </thead>\n",
       "  <tbody>\n",
       "    <tr>\n",
       "      <th>1</th>\n",
       "      <td>0</td>\n",
       "    </tr>\n",
       "    <tr>\n",
       "      <th>2</th>\n",
       "      <td>0</td>\n",
       "    </tr>\n",
       "  </tbody>\n",
       "</table>\n",
       "</div>"
      ],
      "text/plain": [
       "    default_flg\n",
       "id             \n",
       "1             0\n",
       "2             0"
      ]
     },
     "execution_count": 20,
     "metadata": {},
     "output_type": "execute_result"
    }
   ],
   "source": [
    "y = pd.read_csv('data/default_flg.csv', index_col='id')\n",
    "print(y.shape)\n",
    "y.head(2)"
   ]
  },
  {
   "attachments": {},
   "cell_type": "markdown",
   "metadata": {},
   "source": [
    "Запоминаем разбивку на обучение, валидацию и тест"
   ]
  },
  {
   "cell_type": "code",
   "execution_count": 21,
   "metadata": {},
   "outputs": [],
   "source": [
    "train_index    = df[df.sample_cd =='train'].sample_cd.index\n",
    "validate_index = df[df.sample_cd =='validate'].sample_cd.index\n",
    "test_index     = df[df.sample_cd =='test'].sample_cd.index\n",
    "\n",
    "\n",
    "df.drop(['sample_cd','application_dt'],axis=1,inplace=True) #Удаляем два столбца из выборки"
   ]
  },
  {
   "attachments": {},
   "cell_type": "markdown",
   "metadata": {},
   "source": [
    "Список категориальных полей"
   ]
  },
  {
   "cell_type": "code",
   "execution_count": 22,
   "metadata": {},
   "outputs": [
    {
     "data": {
      "text/plain": [
       "['education_cd', 'gender_cd', 'car_own_flg', 'car_type_flg', 'Air_flg']"
      ]
     },
     "execution_count": 22,
     "metadata": {},
     "output_type": "execute_result"
    }
   ],
   "source": [
    "category_columns = [col for col in df.columns if df.dtypes[col] == 'object']\n",
    "category_columns"
   ]
  },
  {
   "attachments": {},
   "cell_type": "markdown",
   "metadata": {},
   "source": [
    "Поля с пустыми значениями"
   ]
  },
  {
   "cell_type": "code",
   "execution_count": 23,
   "metadata": {},
   "outputs": [
    {
     "data": {
      "text/plain": [
       "education_cd        True\n",
       "gender_cd          False\n",
       "age                False\n",
       "car_own_flg        False\n",
       "car_type_flg       False\n",
       "appl_rej_cnt       False\n",
       "good_work_flg      False\n",
       "Score_bki          False\n",
       "out_request_cnt    False\n",
       "region_rating      False\n",
       "home_address_cd    False\n",
       "work_address_cd    False\n",
       "income             False\n",
       "SNA                False\n",
       "first_time_cd      False\n",
       "Air_flg            False\n",
       "dtype: bool"
      ]
     },
     "execution_count": 23,
     "metadata": {},
     "output_type": "execute_result"
    }
   ],
   "source": [
    "df.isnull().any()"
   ]
  },
  {
   "cell_type": "code",
   "execution_count": 24,
   "metadata": {},
   "outputs": [
    {
     "data": {
      "text/plain": [
       "education_cd\n",
       "SCH    100234\n",
       "GRD     71417\n",
       "UGR     28284\n",
       "PGR      3841\n",
       "NaN       912\n",
       "ACD       608\n",
       "Name: count, dtype: int64"
      ]
     },
     "execution_count": 24,
     "metadata": {},
     "output_type": "execute_result"
    }
   ],
   "source": [
    "df.education_cd.value_counts(dropna=False)"
   ]
  },
  {
   "attachments": {},
   "cell_type": "markdown",
   "metadata": {},
   "source": [
    "Заменим пустые значения на самое частое"
   ]
  },
  {
   "cell_type": "code",
   "execution_count": 25,
   "metadata": {
    "collapsed": true
   },
   "outputs": [],
   "source": [
    "df.education_cd.fillna('SCH', inplace=True)"
   ]
  },
  {
   "attachments": {},
   "cell_type": "markdown",
   "metadata": {},
   "source": [
    "Производим dummy кодирование не числовых полей"
   ]
  },
  {
   "cell_type": "code",
   "execution_count": 26,
   "metadata": {},
   "outputs": [
    {
     "data": {
      "text/html": [
       "<div>\n",
       "<style scoped>\n",
       "    .dataframe tbody tr th:only-of-type {\n",
       "        vertical-align: middle;\n",
       "    }\n",
       "\n",
       "    .dataframe tbody tr th {\n",
       "        vertical-align: top;\n",
       "    }\n",
       "\n",
       "    .dataframe thead th {\n",
       "        text-align: right;\n",
       "    }\n",
       "</style>\n",
       "<table border=\"1\" class=\"dataframe\">\n",
       "  <thead>\n",
       "    <tr style=\"text-align: right;\">\n",
       "      <th></th>\n",
       "      <th>education_cd_GRD</th>\n",
       "      <th>education_cd_PGR</th>\n",
       "      <th>education_cd_SCH</th>\n",
       "      <th>education_cd_UGR</th>\n",
       "      <th>gender_cd_M</th>\n",
       "      <th>car_own_flg_Y</th>\n",
       "      <th>car_type_flg_Y</th>\n",
       "      <th>Air_flg_Y</th>\n",
       "    </tr>\n",
       "    <tr>\n",
       "      <th>id</th>\n",
       "      <th></th>\n",
       "      <th></th>\n",
       "      <th></th>\n",
       "      <th></th>\n",
       "      <th></th>\n",
       "      <th></th>\n",
       "      <th></th>\n",
       "      <th></th>\n",
       "    </tr>\n",
       "  </thead>\n",
       "  <tbody>\n",
       "    <tr>\n",
       "      <th>1</th>\n",
       "      <td>False</td>\n",
       "      <td>False</td>\n",
       "      <td>True</td>\n",
       "      <td>False</td>\n",
       "      <td>True</td>\n",
       "      <td>True</td>\n",
       "      <td>True</td>\n",
       "      <td>False</td>\n",
       "    </tr>\n",
       "    <tr>\n",
       "      <th>2</th>\n",
       "      <td>True</td>\n",
       "      <td>False</td>\n",
       "      <td>False</td>\n",
       "      <td>False</td>\n",
       "      <td>False</td>\n",
       "      <td>False</td>\n",
       "      <td>False</td>\n",
       "      <td>False</td>\n",
       "    </tr>\n",
       "  </tbody>\n",
       "</table>\n",
       "</div>"
      ],
      "text/plain": [
       "    education_cd_GRD  education_cd_PGR  education_cd_SCH  education_cd_UGR   \n",
       "id                                                                           \n",
       "1              False             False              True             False  \\\n",
       "2               True             False             False             False   \n",
       "\n",
       "    gender_cd_M  car_own_flg_Y  car_type_flg_Y  Air_flg_Y  \n",
       "id                                                         \n",
       "1          True           True            True      False  \n",
       "2         False          False           False      False  "
      ]
     },
     "execution_count": 26,
     "metadata": {},
     "output_type": "execute_result"
    }
   ],
   "source": [
    "data_category = pd.get_dummies(df[category_columns], drop_first=True)\n",
    "data_category.head(2)"
   ]
  },
  {
   "attachments": {},
   "cell_type": "markdown",
   "metadata": {},
   "source": [
    "Заменяем не числовые поля на dummy кодированные"
   ]
  },
  {
   "cell_type": "code",
   "execution_count": 27,
   "metadata": {},
   "outputs": [
    {
     "data": {
      "text/html": [
       "<div>\n",
       "<style scoped>\n",
       "    .dataframe tbody tr th:only-of-type {\n",
       "        vertical-align: middle;\n",
       "    }\n",
       "\n",
       "    .dataframe tbody tr th {\n",
       "        vertical-align: top;\n",
       "    }\n",
       "\n",
       "    .dataframe thead th {\n",
       "        text-align: right;\n",
       "    }\n",
       "</style>\n",
       "<table border=\"1\" class=\"dataframe\">\n",
       "  <thead>\n",
       "    <tr style=\"text-align: right;\">\n",
       "      <th></th>\n",
       "      <th>age</th>\n",
       "      <th>appl_rej_cnt</th>\n",
       "      <th>good_work_flg</th>\n",
       "      <th>Score_bki</th>\n",
       "      <th>out_request_cnt</th>\n",
       "      <th>region_rating</th>\n",
       "      <th>home_address_cd</th>\n",
       "      <th>work_address_cd</th>\n",
       "      <th>income</th>\n",
       "      <th>SNA</th>\n",
       "      <th>first_time_cd</th>\n",
       "      <th>education_cd_GRD</th>\n",
       "      <th>education_cd_PGR</th>\n",
       "      <th>education_cd_SCH</th>\n",
       "      <th>education_cd_UGR</th>\n",
       "      <th>gender_cd_M</th>\n",
       "      <th>car_own_flg_Y</th>\n",
       "      <th>car_type_flg_Y</th>\n",
       "      <th>Air_flg_Y</th>\n",
       "    </tr>\n",
       "    <tr>\n",
       "      <th>id</th>\n",
       "      <th></th>\n",
       "      <th></th>\n",
       "      <th></th>\n",
       "      <th></th>\n",
       "      <th></th>\n",
       "      <th></th>\n",
       "      <th></th>\n",
       "      <th></th>\n",
       "      <th></th>\n",
       "      <th></th>\n",
       "      <th></th>\n",
       "      <th></th>\n",
       "      <th></th>\n",
       "      <th></th>\n",
       "      <th></th>\n",
       "      <th></th>\n",
       "      <th></th>\n",
       "      <th></th>\n",
       "      <th></th>\n",
       "    </tr>\n",
       "  </thead>\n",
       "  <tbody>\n",
       "    <tr>\n",
       "      <th>1</th>\n",
       "      <td>27</td>\n",
       "      <td>0</td>\n",
       "      <td>0</td>\n",
       "      <td>-1.917831</td>\n",
       "      <td>0</td>\n",
       "      <td>40</td>\n",
       "      <td>2</td>\n",
       "      <td>3</td>\n",
       "      <td>32000</td>\n",
       "      <td>1</td>\n",
       "      <td>4</td>\n",
       "      <td>False</td>\n",
       "      <td>False</td>\n",
       "      <td>True</td>\n",
       "      <td>False</td>\n",
       "      <td>True</td>\n",
       "      <td>True</td>\n",
       "      <td>True</td>\n",
       "      <td>False</td>\n",
       "    </tr>\n",
       "    <tr>\n",
       "      <th>2</th>\n",
       "      <td>26</td>\n",
       "      <td>0</td>\n",
       "      <td>0</td>\n",
       "      <td>-1.153144</td>\n",
       "      <td>2</td>\n",
       "      <td>60</td>\n",
       "      <td>2</td>\n",
       "      <td>3</td>\n",
       "      <td>50000</td>\n",
       "      <td>2</td>\n",
       "      <td>1</td>\n",
       "      <td>True</td>\n",
       "      <td>False</td>\n",
       "      <td>False</td>\n",
       "      <td>False</td>\n",
       "      <td>False</td>\n",
       "      <td>False</td>\n",
       "      <td>False</td>\n",
       "      <td>False</td>\n",
       "    </tr>\n",
       "  </tbody>\n",
       "</table>\n",
       "</div>"
      ],
      "text/plain": [
       "    age  appl_rej_cnt  good_work_flg  Score_bki  out_request_cnt   \n",
       "id                                                                 \n",
       "1    27             0              0  -1.917831                0  \\\n",
       "2    26             0              0  -1.153144                2   \n",
       "\n",
       "    region_rating  home_address_cd  work_address_cd  income  SNA   \n",
       "id                                                                 \n",
       "1              40                2                3   32000    1  \\\n",
       "2              60                2                3   50000    2   \n",
       "\n",
       "    first_time_cd  education_cd_GRD  education_cd_PGR  education_cd_SCH   \n",
       "id                                                                        \n",
       "1               4             False             False              True  \\\n",
       "2               1              True             False             False   \n",
       "\n",
       "    education_cd_UGR  gender_cd_M  car_own_flg_Y  car_type_flg_Y  Air_flg_Y  \n",
       "id                                                                           \n",
       "1              False         True           True            True      False  \n",
       "2              False        False          False           False      False  "
      ]
     },
     "execution_count": 27,
     "metadata": {},
     "output_type": "execute_result"
    }
   ],
   "source": [
    "df.drop(category_columns, axis=1, inplace=True)\n",
    "df = pd.concat([df, data_category], axis=1)\n",
    "df.head(2)"
   ]
  },
  {
   "attachments": {},
   "cell_type": "markdown",
   "metadata": {},
   "source": [
    "Проверяем типы полей"
   ]
  },
  {
   "cell_type": "code",
   "execution_count": 28,
   "metadata": {},
   "outputs": [
    {
     "data": {
      "text/plain": [
       "age                   int64\n",
       "appl_rej_cnt          int64\n",
       "good_work_flg         int64\n",
       "Score_bki           float64\n",
       "out_request_cnt       int64\n",
       "region_rating         int64\n",
       "home_address_cd       int64\n",
       "work_address_cd       int64\n",
       "income                int64\n",
       "SNA                   int64\n",
       "first_time_cd         int64\n",
       "education_cd_GRD       bool\n",
       "education_cd_PGR       bool\n",
       "education_cd_SCH       bool\n",
       "education_cd_UGR       bool\n",
       "gender_cd_M            bool\n",
       "car_own_flg_Y          bool\n",
       "car_type_flg_Y         bool\n",
       "Air_flg_Y              bool\n",
       "dtype: object"
      ]
     },
     "execution_count": 28,
     "metadata": {},
     "output_type": "execute_result"
    }
   ],
   "source": [
    "df.dtypes"
   ]
  },
  {
   "attachments": {},
   "cell_type": "markdown",
   "metadata": {},
   "source": [
    "#### Вспомогательные функции\n",
    "\n",
    "\n",
    "##### WoE (weight of evidence)\n",
    " - На вход подается бинарная целевая переменная $target$, признак $feature$ и количество бакетов $k$\n",
    " - Признак разбивается на бакеты  с номерами $0 \\le i \\le k$. \n",
    " - Считаем долю значений целевой переменной $tr$ и количество наблюдений $cnt$\n",
    " - Считаем $WoE_i = \\ln\\left(\\frac{tr_i}{tr}\\right) - \\ln\\left(\\frac{1-tr_i}{1-tr}\\right)$\n",
    " - Рисуем зависимость $WoE_i$ от среднего значения признака в бакте\n",
    " \n",
    "###### IV (Information Value)\n",
    " - На вход подается бинарная целевая переменная $target$, признак $feature$ и количество бакетов $k$\n",
    " - Признак разбивается на бакеты  с номерами $0 \\le i \\le k$. \n",
    " - Считаем долю значений целевой переменной $tr$ и количество наблюдений $cnt$\n",
    " - Считаем долю значений целевой переменной в каждом бакете $tr_i$ и количество наблюдений в каждом бакете $cnt_i$\n",
    " - Считается $ IV = \\sum\\limits_{i}{\\left(\\frac{tr_i}{tr} - \\frac{1-tr_i}{1-tr}\\right)\\left(\\ln\\left(\\frac{tr_i}{tr}\\right) - \\ln\\left(\\frac{1-tr_i}{1-tr}\\right)\\right)\\left(\\frac{cnt_i}{cnt}\\right)}$\n",
    " - Слагаемые, в которых $tr_i=0$ или $tr_i=1$, сглаживаем до $tr_i=0.001$ и $tr_i=0.999$ соответственно"
   ]
  },
  {
   "cell_type": "code",
   "execution_count": 35,
   "metadata": {
    "collapsed": true
   },
   "outputs": [],
   "source": [
    "def WoE(target, feature, nbuck=10):\n",
    "    \"\"\"Функция, русующая зависимость WoE от среднего значения признака в бакете\"\"\"\n",
    "    # Копируем данные\n",
    "    df = pd.DataFrame()\n",
    "    df[\"target\"] = target.copy()\n",
    "    df[\"feature\"] = feature.copy()\n",
    "    # Считаем номер бакета\n",
    "    df[\"feature_buck\"] = (\n",
    "        df[\"feature\"]\n",
    "        .rank(method=\"min\", pct=1, na_option=\"top\")\n",
    "        .apply(lambda x: int((x - 1 / df.shape[0]) * nbuck))\n",
    "    )\n",
    "    # Запоминаем среднее значение целевой переменной и кол-во наблюдений\n",
    "    tr = df[\"target\"].mean()\n",
    "    cnt = df[\"target\"].count()\n",
    "    # Агрегируем по каждому бакету\n",
    "    df = (\n",
    "        df.groupby(\"feature_buck\")[\"target\"]\n",
    "        .agg([\"mean\", \"size\"])\n",
    "        .rename(columns={\"mean\": \"tr\", \"size\": \"cnt\"})\n",
    "        .join(\n",
    "            df.groupby(\"feature_buck\")[\"feature\"]\n",
    "            .agg([\"mean\"])\n",
    "            .rename(columns={\"mean\": \"feature_av\"})\n",
    "        )\n",
    "    )\n",
    "    # В случае крайних значений tr делаем сглаживание\n",
    "    df.tr = df.tr.apply(lambda x: max(0.001, min(0.999, x)))\n",
    "    # считаем WoE\n",
    "    df.eval(\"WoE = log(tr/@tr)-log((1-tr)/(1-@tr))\", inplace=True)\n",
    "    # Погрешность WoE\n",
    "    df.eval(\"WoE_d = 2/sqrt(tr*(1-tr)*cnt)\", inplace=True)\n",
    "    # убираем наблюдения с пустым значением признака\n",
    "    df.dropna(inplace=True)\n",
    "    # Рисуем график\n",
    "    fig = plt.gcf()\n",
    "    plt.grid(True)\n",
    "    plt.errorbar(df[\"feature_av\"], df.WoE, yerr=np.array((df[\"WoE_d\"])))\n",
    "    plt.xlabel(\"feature\")\n",
    "    plt.ylabel(\"WoE\")\n",
    "    plt.show()\n",
    "\n",
    "\n",
    "def IV(target, feature, nbuck=10):\n",
    "    \"\"\"Функция, возвращающая IV признака-feature с целевой переменной target\"\"\"\n",
    "    # Копируем данные\n",
    "    df = pd.DataFrame()\n",
    "    df[\"target\"] = target.copy()\n",
    "    df[\"feature\"] = feature.copy()\n",
    "    # Считаем номер бакета\n",
    "    df[\"feature_buck\"] = (\n",
    "        df[\"feature\"]\n",
    "        .rank(method=\"min\", pct=1, na_option=\"top\")\n",
    "        .apply(lambda x: int((x - 1.0 / df.shape[0]) * nbuck))\n",
    "    )\n",
    "    # Запоминаем среднее значение целевой переменной и кол-во наблюдений\n",
    "    tr = df[\"target\"].mean()\n",
    "    cnt = df[\"target\"].count()\n",
    "    # Агрегируем по каждому бакету\n",
    "    df = (\n",
    "        df.groupby(\"feature_buck\")[\"target\"]\n",
    "        .agg([\"mean\", \"size\"])\n",
    "        .rename(columns={\"mean\": \"tr\", \"size\": \"cnt\"})\n",
    "    )\n",
    "    # В случае крайних значений tr делаем сглаживание\n",
    "    df.tr = df.tr.apply(lambda x: max(0.001, min(0.999, x)))\n",
    "    # Считаем IV\n",
    "    df.eval(\n",
    "        \"IV = ( (tr/@tr) - ((1-tr)/(1-@tr))) * (log(tr/@tr) - log((1-tr)/(1-@tr)) ) * (cnt/@cnt)\",\n",
    "        inplace=True,\n",
    "    )\n",
    "    IV = df.IV.sum()\n",
    "    return IV"
   ]
  },
  {
   "attachments": {},
   "cell_type": "markdown",
   "metadata": {},
   "source": [
    "#### WoE"
   ]
  },
  {
   "attachments": {},
   "cell_type": "markdown",
   "metadata": {},
   "source": [
    "Рисуем гистограмму"
   ]
  },
  {
   "cell_type": "code",
   "execution_count": 36,
   "metadata": {},
   "outputs": [
    {
     "data": {
      "image/png": "[encoded data removed]",
      "text/plain": [
       "<Figure size 640x480 with 1 Axes>"
      ]
     },
     "metadata": {},
     "output_type": "display_data"
    }
   ],
   "source": [
    "df.loc[train_index].Score_bki.plot.hist(bins=50);"
   ]
  },
  {
   "attachments": {},
   "cell_type": "markdown",
   "metadata": {},
   "source": [
    "Зависимость WoE от признака"
   ]
  },
  {
   "cell_type": "code",
   "execution_count": 37,
   "metadata": {},
   "outputs": [
    {
     "data": {
      "image/png": "[encoded data removed]",
      "text/plain": [
       "<Figure size 640x480 with 1 Axes>"
      ]
     },
     "metadata": {},
     "output_type": "display_data"
    }
   ],
   "source": [
    "WoE(y.loc[train_index].default_flg, df.loc[train_index].Score_bki, nbuck=20)"
   ]
  },
  {
   "attachments": {},
   "cell_type": "markdown",
   "metadata": {},
   "source": [
    "Считаем IV"
   ]
  },
  {
   "cell_type": "code",
   "execution_count": 38,
   "metadata": {},
   "outputs": [
    {
     "data": {
      "text/plain": [
       "0.283108532383257"
      ]
     },
     "execution_count": 38,
     "metadata": {},
     "output_type": "execute_result"
    }
   ],
   "source": [
    "IV(y.loc[train_index].default_flg, df.loc[train_index].Score_bki, nbuck=20)"
   ]
  },
  {
   "cell_type": "code",
   "execution_count": 39,
   "metadata": {},
   "outputs": [
    {
     "data": {
      "image/png": "[encoded data removed]",
      "text/plain": [
       "<Figure size 640x480 with 1 Axes>"
      ]
     },
     "metadata": {},
     "output_type": "display_data"
    }
   ],
   "source": [
    "df.income.plot.hist(bins=50);"
   ]
  },
  {
   "attachments": {},
   "cell_type": "markdown",
   "metadata": {},
   "source": [
    "У признака доход зависимость WoE не такая линейная, как у Score_bki."
   ]
  },
  {
   "cell_type": "code",
   "execution_count": 40,
   "metadata": {},
   "outputs": [
    {
     "data": {
      "image/png": "[encoded data removed]",
      "text/plain": [
       "<Figure size 640x480 with 1 Axes>"
      ]
     },
     "metadata": {},
     "output_type": "display_data"
    }
   ],
   "source": [
    "WoE(y.loc[train_index].default_flg, df.loc[train_index].income, nbuck=10)"
   ]
  },
  {
   "attachments": {},
   "cell_type": "markdown",
   "metadata": {},
   "source": [
    "WoE от преобразованного признака"
   ]
  },
  {
   "cell_type": "code",
   "execution_count": 41,
   "metadata": {},
   "outputs": [
    {
     "data": {
      "image/png": "[encoded data removed]",
      "text/plain": [
       "<Figure size 640x480 with 1 Axes>"
      ]
     },
     "metadata": {},
     "output_type": "display_data"
    }
   ],
   "source": [
    "WoE(y.loc[train_index].default_flg, df.loc[train_index].income.apply(lambda x: np.log(x)), nbuck=10)"
   ]
  },
  {
   "attachments": {},
   "cell_type": "markdown",
   "metadata": {},
   "source": [
    "Посчитаем IV от различных преобразований поля income"
   ]
  },
  {
   "cell_type": "code",
   "execution_count": 42,
   "metadata": {},
   "outputs": [
    {
     "name": "stdout",
     "output_type": "stream",
     "text": [
      "0.03837794897479724\n",
      "0.03837794897479724\n",
      "0.03354139550049351\n"
     ]
    }
   ],
   "source": [
    "print (IV(y.loc[train_index].default_flg, df.loc[train_index].income, nbuck=10))\n",
    "print (IV(y.loc[train_index].default_flg, df.loc[train_index].income.apply(lambda x: np.log(x)), nbuck=10))\n",
    "print (IV(y.loc[train_index].default_flg, df.loc[train_index].income.apply(lambda x: int(x > 40000)), nbuck=10))"
   ]
  },
  {
   "attachments": {},
   "cell_type": "markdown",
   "metadata": {},
   "source": [
    "Видно, что iv у флага \"доход > 40000\" не сильно меньше, поэтому вводим флаг в замен старого признака."
   ]
  },
  {
   "cell_type": "code",
   "execution_count": 43,
   "metadata": {
    "collapsed": true
   },
   "outputs": [],
   "source": [
    "df['income_40k_flg'] = df.income.apply(lambda x: int(x > 40000))\n",
    "df.drop('income', axis=1, inplace=True)"
   ]
  },
  {
   "attachments": {},
   "cell_type": "markdown",
   "metadata": {},
   "source": [
    "#### Логистическая регрессия"
   ]
  },
  {
   "cell_type": "code",
   "execution_count": 44,
   "metadata": {
    "collapsed": true
   },
   "outputs": [],
   "source": [
    "from sklearn.linear_model import LogisticRegression\n",
    "from sklearn.metrics import roc_auc_score"
   ]
  },
  {
   "attachments": {},
   "cell_type": "markdown",
   "metadata": {},
   "source": [
    "Выбираем параметр регуляризации на валидационной выборке"
   ]
  },
  {
   "cell_type": "code",
   "execution_count": 34,
   "metadata": {},
   "outputs": [
    {
     "name": "stdout",
     "output_type": "stream",
     "text": [
      "   Train Validate    C\n",
      "0.631389 0.623292 0.000010\n",
      "0.698338 0.681162 0.000100\n",
      "0.727944 0.711949 0.001000\n",
      "0.729356 0.715301 0.010000\n",
      "0.729289 0.715619 0.100000\n",
      "0.729277 0.715654 1.000000\n",
      "0.729279 0.715657 10.000000\n",
      "0.729275 0.715658 100.000000\n"
     ]
    }
   ],
   "source": [
    "print ('%8s %8s %4s' % ('Train','Validate','C'))\n",
    "for C in [0.00001, 0.0001, 0.001, 0.01, 0.1, 1, 10, 100]:\n",
    "    LR = LogisticRegression(C=C, penalty='l2')\n",
    "    LR.fit(df.loc[train_index], y.loc[train_index].default_flg)\n",
    "    AUC_train = roc_auc_score(y.loc[train_index].default_flg, LR.predict_proba(df.loc[train_index])[:,1])\n",
    "    AUC_validate = roc_auc_score(y.loc[validate_index].default_flg, LR.predict_proba(df.loc[validate_index])[:,1])\n",
    "    print('%.6f %.6f %f' %  (AUC_train, AUC_validate, C))"
   ]
  },
  {
   "attachments": {},
   "cell_type": "markdown",
   "metadata": {},
   "source": [
    "Запускаем лучшее решение и сохраняем результат"
   ]
  },
  {
   "cell_type": "code",
   "execution_count": 35,
   "metadata": {
    "collapsed": true
   },
   "outputs": [],
   "source": [
    "LR_best = LogisticRegression(C=100, penalty='l2') # <- на самом деле регуляризация 1/C\n",
    "LR.fit(df.loc[train_index], y.loc[train_index].default_flg)\n",
    "test_pd = LR.predict_proba(df.loc[test_index])[:,1]"
   ]
  },
  {
   "attachments": {},
   "cell_type": "markdown",
   "metadata": {},
   "source": [
    "Выводим коэффициенты"
   ]
  },
  {
   "cell_type": "code",
   "execution_count": 36,
   "metadata": {
    "scrolled": false
   },
   "outputs": [
    {
     "data": {
      "text/html": [
       "<div>\n",
       "<style>\n",
       "    .dataframe thead tr:only-child th {\n",
       "        text-align: right;\n",
       "    }\n",
       "\n",
       "    .dataframe thead th {\n",
       "        text-align: left;\n",
       "    }\n",
       "\n",
       "    .dataframe tbody tr th {\n",
       "        vertical-align: top;\n",
       "    }\n",
       "</style>\n",
       "<table border=\"1\" class=\"dataframe\">\n",
       "  <thead>\n",
       "    <tr style=\"text-align: right;\">\n",
       "      <th></th>\n",
       "      <th>coef</th>\n",
       "    </tr>\n",
       "  </thead>\n",
       "  <tbody>\n",
       "    <tr>\n",
       "      <th>age</th>\n",
       "      <td>-0.005598</td>\n",
       "    </tr>\n",
       "    <tr>\n",
       "      <th>appl_rej_cnt</th>\n",
       "      <td>0.132157</td>\n",
       "    </tr>\n",
       "    <tr>\n",
       "      <th>good_work_flg</th>\n",
       "      <td>-0.253478</td>\n",
       "    </tr>\n",
       "    <tr>\n",
       "      <th>Score_bki</th>\n",
       "      <td>0.981245</td>\n",
       "    </tr>\n",
       "    <tr>\n",
       "      <th>out_request_cnt</th>\n",
       "      <td>0.067619</td>\n",
       "    </tr>\n",
       "    <tr>\n",
       "      <th>region_rating</th>\n",
       "      <td>-0.024926</td>\n",
       "    </tr>\n",
       "    <tr>\n",
       "      <th>home_address_cd</th>\n",
       "      <td>0.281607</td>\n",
       "    </tr>\n",
       "    <tr>\n",
       "      <th>work_address_cd</th>\n",
       "      <td>0.284008</td>\n",
       "    </tr>\n",
       "    <tr>\n",
       "      <th>SNA</th>\n",
       "      <td>0.143680</td>\n",
       "    </tr>\n",
       "    <tr>\n",
       "      <th>first_time_cd</th>\n",
       "      <td>-0.092833</td>\n",
       "    </tr>\n",
       "    <tr>\n",
       "      <th>education_cd_GRD</th>\n",
       "      <td>-0.128775</td>\n",
       "    </tr>\n",
       "    <tr>\n",
       "      <th>education_cd_PGR</th>\n",
       "      <td>-0.259538</td>\n",
       "    </tr>\n",
       "    <tr>\n",
       "      <th>education_cd_SCH</th>\n",
       "      <td>0.286510</td>\n",
       "    </tr>\n",
       "    <tr>\n",
       "      <th>education_cd_UGR</th>\n",
       "      <td>0.113305</td>\n",
       "    </tr>\n",
       "    <tr>\n",
       "      <th>gender_cd_M</th>\n",
       "      <td>0.293428</td>\n",
       "    </tr>\n",
       "    <tr>\n",
       "      <th>car_own_flg_Y</th>\n",
       "      <td>-0.024535</td>\n",
       "    </tr>\n",
       "    <tr>\n",
       "      <th>car_type_flg_Y</th>\n",
       "      <td>-0.210598</td>\n",
       "    </tr>\n",
       "    <tr>\n",
       "      <th>Air_flg_Y</th>\n",
       "      <td>-0.186856</td>\n",
       "    </tr>\n",
       "    <tr>\n",
       "      <th>income_40k_flg</th>\n",
       "      <td>-0.142997</td>\n",
       "    </tr>\n",
       "  </tbody>\n",
       "</table>\n",
       "</div>"
      ],
      "text/plain": [
       "                      coef\n",
       "age              -0.005598\n",
       "appl_rej_cnt      0.132157\n",
       "good_work_flg    -0.253478\n",
       "Score_bki         0.981245\n",
       "out_request_cnt   0.067619\n",
       "region_rating    -0.024926\n",
       "home_address_cd   0.281607\n",
       "work_address_cd   0.284008\n",
       "SNA               0.143680\n",
       "first_time_cd    -0.092833\n",
       "education_cd_GRD -0.128775\n",
       "education_cd_PGR -0.259538\n",
       "education_cd_SCH  0.286510\n",
       "education_cd_UGR  0.113305\n",
       "gender_cd_M       0.293428\n",
       "car_own_flg_Y    -0.024535\n",
       "car_type_flg_Y   -0.210598\n",
       "Air_flg_Y        -0.186856\n",
       "income_40k_flg   -0.142997"
      ]
     },
     "execution_count": 36,
     "metadata": {},
     "output_type": "execute_result"
    }
   ],
   "source": [
    "pd.DataFrame(LR.coef_.T, index=df.columns, columns=['coef'])"
   ]
  },
  {
   "attachments": {},
   "cell_type": "markdown",
   "metadata": {},
   "source": [
    "Сохраняем результат в csv"
   ]
  },
  {
   "cell_type": "code",
   "execution_count": 37,
   "metadata": {},
   "outputs": [
    {
     "name": "stdout",
     "output_type": "stream",
     "text": [
      "(24480, 1)\n"
     ]
    },
    {
     "data": {
      "text/html": [
       "<div>\n",
       "<style>\n",
       "    .dataframe thead tr:only-child th {\n",
       "        text-align: right;\n",
       "    }\n",
       "\n",
       "    .dataframe thead th {\n",
       "        text-align: left;\n",
       "    }\n",
       "\n",
       "    .dataframe tbody tr th {\n",
       "        vertical-align: top;\n",
       "    }\n",
       "</style>\n",
       "<table border=\"1\" class=\"dataframe\">\n",
       "  <thead>\n",
       "    <tr style=\"text-align: right;\">\n",
       "      <th></th>\n",
       "      <th>score</th>\n",
       "    </tr>\n",
       "    <tr>\n",
       "      <th>id</th>\n",
       "      <th></th>\n",
       "    </tr>\n",
       "  </thead>\n",
       "  <tbody>\n",
       "    <tr>\n",
       "      <th>180817</th>\n",
       "      <td>0.075688</td>\n",
       "    </tr>\n",
       "    <tr>\n",
       "      <th>180818</th>\n",
       "      <td>0.120584</td>\n",
       "    </tr>\n",
       "  </tbody>\n",
       "</table>\n",
       "</div>"
      ],
      "text/plain": [
       "           score\n",
       "id              \n",
       "180817  0.075688\n",
       "180818  0.120584"
      ]
     },
     "execution_count": 37,
     "metadata": {},
     "output_type": "execute_result"
    }
   ],
   "source": [
    "test_pd = pd.DataFrame(test_pd, columns=['score'], index=test_index)\n",
    "test_pd.to_csv('my_submission.csv')\n",
    "print(test_pd.shape)\n",
    "test_pd.head(2)"
   ]
  }
 ],
 "metadata": {
  "kernelspec": {
   "display_name": "Python 3",
   "language": "python",
   "name": "python3"
  },
  "language_info": {
   "codemirror_mode": {
    "name": "ipython",
    "version": 3
   },
   "file_extension": ".py",
   "mimetype": "text/x-python",
   "name": "python",
   "nbconvert_exporter": "python",
   "pygments_lexer": "ipython3",
   "version": "3.10.10"
  }
 },
 "nbformat": 4,
 "nbformat_minor": 1
}
